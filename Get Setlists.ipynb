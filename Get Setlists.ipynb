{
 "cells": [
  {
   "cell_type": "code",
   "execution_count": 1,
   "id": "84f975cd-2791-48f5-8247-effecdb50b39",
   "metadata": {},
   "outputs": [],
   "source": [
    "%load_ext autoreload\n",
    "%autoreload 2"
   ]
  },
  {
   "cell_type": "code",
   "execution_count": 13,
   "id": "d7c7a896-a56b-48c9-a157-89e009f13f28",
   "metadata": {
    "tags": []
   },
   "outputs": [],
   "source": [
    "import os\n",
    "import time\n",
    "import requests\n",
    "from dotenv import load_dotenv\n",
    "\n",
    "import numpy as np\n",
    "import pandas as pd\n",
    "import janitor\n",
    "import tidybear as tb\n",
    "\n",
    "from tqdm import tqdm\n",
    "\n",
    "import matplotlib.pyplot as plt\n",
    "import seaborn as sns\n",
    "\n",
    "%matplotlib inline"
   ]
  },
  {
   "cell_type": "code",
   "execution_count": 3,
   "id": "0e0f2b9f-e2bf-4ea4-b5ad-ae12672297a6",
   "metadata": {},
   "outputs": [],
   "source": [
    "load_dotenv()\n",
    "SETLIST_FM_API_KEY = os.getenv(\"SETLIST_FM_API_KEY\")\n",
    "SPOTIFY_API_KEY = os.getenv(\"SPOTIFY_API_KEY\")\n",
    "\n",
    "FOO_FIGHTERS_MBID = \"67f66c07-6e61-4026-ade5-7e782fad3a5d\""
   ]
  },
  {
   "cell_type": "code",
   "execution_count": 46,
   "id": "be2f4d9a-a4c0-429f-b678-4d2e0310406d",
   "metadata": {},
   "outputs": [
    {
     "name": "stdout",
     "output_type": "stream",
     "text": [
      "Fetching page 1...\n",
      "Fetching page 10...\n",
      "Fetching page 20...\n",
      "Fetching page 30...\n",
      "Fetching page 40...\n",
      "Fetching page 50...\n",
      "Fetching page 60...\n",
      "Fetching page 70...\n"
     ]
    }
   ],
   "source": [
    "payload = {\n",
    "    \"url\": f\"https://api.setlist.fm/rest/1.0/artist/{FOO_FIGHTERS_MBID}/setlists\",\n",
    "    \"headers\": {\n",
    "        \"Accept\": \"application/json\",\n",
    "        \"x-api-key\": SETLIST_FM_API_KEY\n",
    "    },\n",
    "    \"params\": {\"p\": 1}\n",
    "}\n",
    "\n",
    "from lib.setlist_fm.converter import ResponseToConcertConverter\n",
    "\n",
    "concerts = []\n",
    "converter = ResponseToConcertConverter()\n",
    "\n",
    "page_number, page_has_content = 1, True \n",
    "while page_has_content:\n",
    "    \n",
    "    if page_number == 1 or page_number % 10 == 0:\n",
    "        print(f\"Fetching page {page_number}...\")\n",
    "    \n",
    "    payload[\"params\"][\"p\"] = page_number\n",
    "    response = requests.get(**payload)\n",
    "    data = response.json()\n",
    "    \n",
    "    if \"setlist\" not in data:\n",
    "        page_has_content = False\n",
    "        break\n",
    "        \n",
    "    setlists = data[\"setlist\"]\n",
    "    for setlist in setlists:\n",
    "        concerts.append(converter.convert(setlist))\n",
    "    \n",
    "    time.sleep(5)\n",
    "    page_number += 1"
   ]
  },
  {
   "cell_type": "code",
   "execution_count": 47,
   "id": "c08df94f-73aa-4eb7-9921-f2674e3d363a",
   "metadata": {},
   "outputs": [
    {
     "name": "stdout",
     "output_type": "stream",
     "text": [
      "76\n",
      "1483\n"
     ]
    }
   ],
   "source": [
    "print(page_number)\n",
    "print(len(concerts))"
   ]
  },
  {
   "cell_type": "code",
   "execution_count": 48,
   "id": "10559b11-7f5a-4e7e-87ec-17c2fd0db1ad",
   "metadata": {},
   "outputs": [],
   "source": [
    "import json\n",
    "import pydantic\n",
    "from lib.setlist_fm.converter import Concert\n",
    "\n",
    "class ConcertList(pydantic.BaseModel):\n",
    "    concerts: list[Concert]\n",
    "\n",
    "json_data = json.loads(ConcertList(concerts = concerts).json())\n",
    "with open(\"foo_fighter_setlists.json\", \"w\") as outfile:\n",
    "    json.dump(json_data, outfile)\n",
    "    outfile.close()"
   ]
  },
  {
   "cell_type": "markdown",
   "id": "0d9a933b-0e0f-4bba-91d5-fdafc0fa1413",
   "metadata": {},
   "source": [
    "___"
   ]
  },
  {
   "cell_type": "code",
   "execution_count": null,
   "id": "b16a2fc7-373c-449e-bc77-681c3b98fdcf",
   "metadata": {},
   "outputs": [],
   "source": [
    "import json\n",
    "import pandas as pd\n",
    "\n",
    "from lib.setlist_fm.converter import ConcertList"
   ]
  },
  {
   "cell_type": "code",
   "execution_count": null,
   "id": "5ea24381-3488-425c-a148-b52b4ba45e05",
   "metadata": {},
   "outputs": [],
   "source": [
    "concerts = json.load(open(\"foo_fighter_setlists.json\"))\n",
    "concert_list = ConcertList(**concerts)"
   ]
  },
  {
   "cell_type": "code",
   "execution_count": null,
   "id": "7dbd553b-a28a-4593-8630-1729731b0ca8",
   "metadata": {},
   "outputs": [],
   "source": [
    "concert_items, venue_items, song_items = [], [], []\n",
    "\n",
    "for concert in concert_list.concerts:\n",
    "    concert_items.append({\n",
    "        **concert.dict(exclude={\"venue\", \"setlist\"}),\n",
    "        \"venue_id\": concert.venue.id\n",
    "    })\n",
    "    \n",
    "    if concert.venue:\n",
    "        venue_items.append(concert.venue.dict())\n",
    "        \n",
    "    if concert.setlist:\n",
    "        song_items += [{\n",
    "            \"concert_id\": concert.id,\n",
    "            \"song_number\": i,\n",
    "            **sl.dict()\n",
    "        } for i, sl in enumerate(concert.setlist, 1)]\n",
    "\n",
    "concert_df = pd.DataFrame(concert_items)\n",
    "venue_df = pd.DataFrame(venue_items).drop_duplicates().reset_index(drop=True)\n",
    "songs_df = pd.DataFrame(song_items)"
   ]
  },
  {
   "cell_type": "code",
   "execution_count": null,
   "id": "ffb445e1-ba24-450f-affb-ce03ca8abff1",
   "metadata": {},
   "outputs": [],
   "source": [
    "concert_df.to_csv(\"data/concerts.csv\", index=False)\n",
    "venue_df.to_csv(\"data/venues.csv\", index=False)\n",
    "songs_df.to_csv(\"data/songs.csv\", index=False)"
   ]
  },
  {
   "cell_type": "markdown",
   "id": "a3be3d01-f5b1-4465-88df-a30a7a96204d",
   "metadata": {},
   "source": [
    "___"
   ]
  },
  {
   "cell_type": "code",
   "execution_count": 28,
   "id": "214965d1-fa8e-428f-8715-e7fb917f5a07",
   "metadata": {},
   "outputs": [],
   "source": [
    "import re\n",
    "import requests\n",
    "from bs4 import BeautifulSoup\n",
    "\n",
    "import pandas as pd"
   ]
  },
  {
   "cell_type": "code",
   "execution_count": 3,
   "id": "250c82e3-13a5-499b-8d86-b903e9b8e2d2",
   "metadata": {},
   "outputs": [],
   "source": [
    "response = requests.get(\"https://www.songfacts.com/songs/foo-fighters\")\n",
    "content = response.content\n",
    "\n",
    "soup = BeautifulSoup(content)"
   ]
  },
  {
   "cell_type": "code",
   "execution_count": 39,
   "id": "ef17acf2-8437-44dd-8292-8e8a6250034a",
   "metadata": {},
   "outputs": [],
   "source": [
    "list_items = soup.find(\"ul\", attrs={\"class\": \"browse-list-orange\"}).find_all(\"li\")\n",
    "html_text = [item.text for item in list_items]\n",
    "\n",
    "regex = r\"(.*)\\s\\(([0-9]{4})\\)\"\n",
    "releases = pd.DataFrame(\n",
    "    [re.findall(regex, text)[0] for text in html_text],\n",
    "    columns=[\"name\", \"release_year\"]\n",
    ")\n",
    "\n",
    "releases[\"name\"] = releases.name.str.strip()\n",
    "releases[\"release_year\"] = releases.release_year.astype(int)\n",
    "releases.to_csv(\"data/releases.csv\", index=False)"
   ]
  },
  {
   "cell_type": "code",
   "execution_count": 37,
   "id": "6c971ad8-9621-4a16-a690-bd1b8c68ce58",
   "metadata": {},
   "outputs": [
    {
     "data": {
      "text/html": [
       "<div>\n",
       "<style scoped>\n",
       "    .dataframe tbody tr th:only-of-type {\n",
       "        vertical-align: middle;\n",
       "    }\n",
       "\n",
       "    .dataframe tbody tr th {\n",
       "        vertical-align: top;\n",
       "    }\n",
       "\n",
       "    .dataframe thead th {\n",
       "        text-align: right;\n",
       "    }\n",
       "</style>\n",
       "<table border=\"1\" class=\"dataframe\">\n",
       "  <thead>\n",
       "    <tr style=\"text-align: right;\">\n",
       "      <th></th>\n",
       "      <th>name</th>\n",
       "      <th>release_year</th>\n",
       "    </tr>\n",
       "  </thead>\n",
       "  <tbody>\n",
       "    <tr>\n",
       "      <th>0</th>\n",
       "      <td>Ain't It the Life</td>\n",
       "      <td>1999</td>\n",
       "    </tr>\n",
       "    <tr>\n",
       "      <th>1</th>\n",
       "      <td>All My Life</td>\n",
       "      <td>2002</td>\n",
       "    </tr>\n",
       "    <tr>\n",
       "      <th>2</th>\n",
       "      <td>Arlandria</td>\n",
       "      <td>2011</td>\n",
       "    </tr>\n",
       "    <tr>\n",
       "      <th>3</th>\n",
       "      <td>Ballad Of The Beaconsfield Miners</td>\n",
       "      <td>2007</td>\n",
       "    </tr>\n",
       "    <tr>\n",
       "      <th>4</th>\n",
       "      <td>Best Of You</td>\n",
       "      <td>2005</td>\n",
       "    </tr>\n",
       "    <tr>\n",
       "      <th>...</th>\n",
       "      <td>...</td>\n",
       "      <td>...</td>\n",
       "    </tr>\n",
       "    <tr>\n",
       "      <th>77</th>\n",
       "      <td>What Did I Do?/God As My Witness</td>\n",
       "      <td>2014</td>\n",
       "    </tr>\n",
       "    <tr>\n",
       "      <th>78</th>\n",
       "      <td>Wheels</td>\n",
       "      <td>2009</td>\n",
       "    </tr>\n",
       "    <tr>\n",
       "      <th>79</th>\n",
       "      <td>White Limo</td>\n",
       "      <td>2011</td>\n",
       "    </tr>\n",
       "    <tr>\n",
       "      <th>80</th>\n",
       "      <td>Wind Up</td>\n",
       "      <td>1997</td>\n",
       "    </tr>\n",
       "    <tr>\n",
       "      <th>81</th>\n",
       "      <td>Word Forward</td>\n",
       "      <td>2009</td>\n",
       "    </tr>\n",
       "  </tbody>\n",
       "</table>\n",
       "<p>82 rows × 2 columns</p>\n",
       "</div>"
      ],
      "text/plain": [
       "                                 name  release_year\n",
       "0                   Ain't It the Life          1999\n",
       "1                         All My Life          2002\n",
       "2                           Arlandria          2011\n",
       "3   Ballad Of The Beaconsfield Miners          2007\n",
       "4                         Best Of You          2005\n",
       "..                                ...           ...\n",
       "77   What Did I Do?/God As My Witness          2014\n",
       "78                             Wheels          2009\n",
       "79                         White Limo          2011\n",
       "80                            Wind Up          1997\n",
       "81                       Word Forward          2009\n",
       "\n",
       "[82 rows x 2 columns]"
      ]
     },
     "execution_count": 37,
     "metadata": {},
     "output_type": "execute_result"
    }
   ],
   "source": [
    "releases"
   ]
  },
  {
   "cell_type": "code",
   "execution_count": null,
   "id": "a505f316-a0c3-4209-aefc-12764faa0aa0",
   "metadata": {},
   "outputs": [],
   "source": []
  }
 ],
 "metadata": {
  "kernelspec": {
   "display_name": "Python 3 (ipykernel)",
   "language": "python",
   "name": "python3"
  },
  "language_info": {
   "codemirror_mode": {
    "name": "ipython",
    "version": 3
   },
   "file_extension": ".py",
   "mimetype": "text/x-python",
   "name": "python",
   "nbconvert_exporter": "python",
   "pygments_lexer": "ipython3",
   "version": "3.9.7"
  }
 },
 "nbformat": 4,
 "nbformat_minor": 5
}
